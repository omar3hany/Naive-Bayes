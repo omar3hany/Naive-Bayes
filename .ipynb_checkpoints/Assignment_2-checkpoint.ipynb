{
 "cells": [
  {
   "cell_type": "markdown",
   "metadata": {},
   "source": [
    "<h1><center>CSEN1022:Assignment 2</center></h1>\n",
    "<h3><center>Winter 2021</center></h3>\n",
    "<hr style=\"border:2px solid black\"> </hr>"
   ]
  },
  {
   "cell_type": "markdown",
   "metadata": {},
   "source": [
    "## <u> Please don't forget to fill in this data </u>\n",
    "**Member 1**\n",
    "\n",
    "Name: Abdallah Ragab \n",
    "\n",
    "GUC-ID: 43-14849\n",
    "\n",
    "Elective Tutorial No.: T-02\n",
    "\n",
    "**Member 2**\n",
    "\n",
    "Name: Omar Hany\n",
    "\n",
    "GUC-ID: 43-5802\n",
    "\n",
    "Elective Tutorial No.: T-04\n",
    "\n",
    "<hr style=\"border:2px solid black\"> </hr>"
   ]
  },
  {
   "cell_type": "markdown",
   "metadata": {},
   "source": [
    "## Imports (Don't Edit)"
   ]
  },
  {
   "cell_type": "code",
   "execution_count": 1,
   "metadata": {},
   "outputs": [],
   "source": [
    "# ONLY USE THESE IMPORTS.\n",
    "# PLEASE DON'T EDIT THIS CELL.\n",
    "import numpy as np\n",
    "import matplotlib.pyplot as plt\n",
    "import cv2\n",
    "%matplotlib inline\n",
    "confusion_matrices_nb = []\n",
    "confusion_matrices_gm = []"
   ]
  },
  {
   "cell_type": "markdown",
   "metadata": {},
   "source": [
    "## Read Data"
   ]
  },
  {
   "cell_type": "code",
   "execution_count": 2,
   "metadata": {},
   "outputs": [],
   "source": [
    "# X_train, X_test\n",
    "# return (x_train, y_train), (x_test, y_test)\n",
    "\n",
    "def read_data():\n",
    "    x_train = []\n",
    "    y_train = []\n",
    "\n",
    "    x_train_airplane = np.array([plt.imread('Data/train/airplane/'+str(i)+'.jpg') for i in range (0,5000)])\n",
    "    x_train_automobile = np.array([plt.imread('Data/train/automobile/'+str(i)+'.jpg') for i in range (0,5000)])\n",
    "    x_train_frog = np.array([plt.imread('Data/train/frog/'+str(i)+'.jpg') for i in range (0,5000)])\n",
    "    \n",
    "    \n",
    "    x_train = x_train_airplane\n",
    "    x_train = np.append(x_train,x_train_automobile,axis=0)\n",
    "    x_train = np.append(x_train,x_train_frog,axis = 0)\n",
    "    \n",
    "    for i in range(0,3):\n",
    "        for j in range(0,5000):\n",
    "            y_train.append(i)\n",
    "            \n",
    "    \n",
    "\n",
    "    x_test = []\n",
    "    y_test = []\n",
    "    x_test_airplane = np.array([plt.imread('Data/test/airplane/'+str(i)+'.jpg') for i in range (0,1000)])\n",
    "    x_test_automobile = np.array([plt.imread('Data/test/automobile/'+str(i)+'.jpg') for i in range (0,1000)])\n",
    "    x_test_frog = np.array([plt.imread('Data/test/frog/'+str(i)+'.jpg') for i in range (0,1000)])\n",
    "    \n",
    "    \n",
    "    x_test = x_test_airplane\n",
    "    x_test = np.append(x_test,x_test_automobile,axis = 0)\n",
    "    x_test = np.append(x_test,x_test_frog,axis = 0)\n",
    "    \n",
    "    \n",
    "    for i in range(0,3):\n",
    "        for j in range(0,1000):\n",
    "            y_test.append(i)\n",
    "\n",
    "    x_train = np.array(x_train)\n",
    "    y_train = np.array(y_train)\n",
    "    x_test = np.array(x_test)\n",
    "    y_test = np.array(y_test)\n",
    "    #normalize rgb\n",
    "    x_train = x_train/255\n",
    "    x_test = x_test/255\n",
    "    return (x_train, y_train), (x_test, y_test)\n",
    "(x_train,y_train),(X_test,y_test)=read_data()\n",
    "\n",
    "\n",
    "################################################## \n",
    "\n",
    "x_train_rgb_32 = np.reshape(x_train,(len(x_train),3072))\n",
    "x_test_rgb_32 =  np.reshape(X_test,(len(X_test),3072))\n",
    "\n",
    "x_train_rgb_16 = np.array([ cv2.resize(image, (16,16), interpolation=cv2.INTER_AREA) for image in x_train])\n",
    "x_test_rgb_16 =  np.array([ cv2.resize(image, (16,16), interpolation=cv2.INTER_AREA) for image in X_test])\n",
    "\n",
    "x_train_rgb_16 = np.reshape(x_train_rgb_16,(len(x_train_rgb_16),768))\n",
    "x_test_rgb_16 =  np.reshape(x_test_rgb_16,(len(x_test_rgb_16),768))\n",
    "\n",
    "\n",
    "x_train_rgb_8 = np.array([ cv2.resize(image, (8,8), interpolation=cv2.INTER_AREA) for image in x_train])\n",
    "x_test_rgb_8 =  np.array([ cv2.resize(image, (8,8), interpolation=cv2.INTER_AREA) for image in X_test])\n",
    "\n",
    "x_train_rgb_8 = np.reshape(x_train_rgb_8,(len(x_train_rgb_8),192))\n",
    "x_test_rgb_8 =  np.reshape(x_test_rgb_8,(len(x_test_rgb_8),192))\n",
    "\n",
    "\n",
    "x_train_rgb_4 = np.array([ cv2.resize(image, (4,4), interpolation=cv2.INTER_AREA) for image in x_train])\n",
    "x_test_rgb_4 =  np.array([ cv2.resize(image, (4,4), interpolation=cv2.INTER_AREA) for image in X_test])\n",
    "\n",
    "x_train_rgb_4 = np.reshape(x_train_rgb_4,(len(x_train_rgb_4),48))\n",
    "x_test_rgb_4 = np.reshape(x_test_rgb_4,(len(x_test_rgb_4),48))\n",
    "\n",
    "\n",
    "\n",
    "\n"
   ]
  },
  {
   "cell_type": "markdown",
   "metadata": {},
   "source": [
    "<hr style=\"border:2px solid black\"> </hr>\n",
    "\n",
    "## Construct Naive Bayes classifier for each of the 3 classes.\n",
    "#### Test each classifier on all images in X_Test. \n",
    "#### Construct Confusion Matrix."
   ]
  },
  {
   "cell_type": "code",
   "execution_count": 3,
   "metadata": {},
   "outputs": [],
   "source": [
    "def compute_confusion_matrix(expected, pred):\n",
    "  K = len(np.unique(expected)) # Number of classes \n",
    "  result = np.zeros((K, K))\n",
    "\n",
    "  for i in range(len(expected)):\n",
    "    result[expected[i]][pred[i]] += 1\n",
    "\n",
    "  return result\n",
    "            "
   ]
  },
  {
   "cell_type": "code",
   "execution_count": 4,
   "metadata": {},
   "outputs": [],
   "source": [
    "def meanAndVariance(x_train,y_train,label):\n",
    "    x_train_label= [x_train[i] for i in range(len(x_train)) if y_train[i]==label]\n",
    "    x_train_label=np.asarray(x_train_label)\n",
    "    m_label = np.mean(x_train_label, axis=0)   \n",
    "    var_label = np.var(x_train_label, axis=0)\n",
    "    return  var_label,m_label"
   ]
  },
  {
   "cell_type": "code",
   "execution_count": 5,
   "metadata": {},
   "outputs": [],
   "source": [
    "def naiveBayes(x_train,y_train,x_test,label):\n",
    "    res= []\n",
    "    var, mean = meanAndVariance(x_train,y_train,label)\n",
    "    for i in range(3000):\n",
    "        x =  (1 / np.sqrt(2 * np.pi * var)) * np.exp(-((x_test[i]-mean)**2 / (2 * var )))\n",
    "        res.append(np.prod(x))\n",
    "    return res\n"
   ]
  },
  {
   "cell_type": "code",
   "execution_count": 6,
   "metadata": {},
   "outputs": [],
   "source": [
    "def correctness(Plane,Automobile,Frog,x_test):#rgb or grayscale\n",
    "    correct=0\n",
    "    predicted = []\n",
    "    for i in range(len(x_test)):\n",
    "        label=0\n",
    "        if(Automobile[i]>Plane[i] and Automobile[i]>Frog[i]):\n",
    "            label=1\n",
    "        elif (Frog[i]>Plane[i] and Frog[i]>Automobile[i]):\n",
    "            label=2\n",
    "        predicted.append(label)\n",
    "        if label==y_test[i]:\n",
    "            correct+=1                         \n",
    "    print(correct*100/len(x_test))\n",
    "    return predicted"
   ]
  },
  {
   "cell_type": "code",
   "execution_count": 7,
   "metadata": {},
   "outputs": [
    {
     "name": "stderr",
     "output_type": "stream",
     "text": [
      "c:\\users\\dell\\appdata\\local\\programs\\python\\python39\\lib\\site-packages\\numpy\\core\\fromnumeric.py:87: RuntimeWarning: overflow encountered in reduce\n",
      "  return ufunc.reduce(obj, axis, dtype, out, **passkwargs)\n"
     ]
    }
   ],
   "source": [
    "###########32x32\n",
    "Plane32 = naiveBayes(x_train_rgb_32,y_train,x_test_rgb_32,0)\n",
    "Automobile32 = naiveBayes(x_train_rgb_32,y_train,x_test_rgb_32,1)\n",
    "Frog32 = naiveBayes(x_train_rgb_32,y_train,x_test_rgb_32,2)"
   ]
  },
  {
   "cell_type": "code",
   "execution_count": 8,
   "metadata": {},
   "outputs": [
    {
     "name": "stdout",
     "output_type": "stream",
     "text": [
      "60.1\n"
     ]
    }
   ],
   "source": [
    "predicted = correctness(Plane32,Automobile32,Frog32,x_test_rgb_32)"
   ]
  },
  {
   "cell_type": "code",
   "execution_count": 9,
   "metadata": {},
   "outputs": [],
   "source": [
    "confusion_matrix_32 = compute_confusion_matrix(y_test,predicted)"
   ]
  },
  {
   "cell_type": "code",
   "execution_count": 10,
   "metadata": {},
   "outputs": [
    {
     "data": {
      "text/plain": [
       "array([[803., 100.,  97.],\n",
       "       [334., 379., 287.],\n",
       "       [334.,  45., 621.]])"
      ]
     },
     "execution_count": 10,
     "metadata": {},
     "output_type": "execute_result"
    }
   ],
   "source": [
    "confusion_matrix_32"
   ]
  },
  {
   "cell_type": "code",
   "execution_count": 11,
   "metadata": {},
   "outputs": [],
   "source": [
    "###########16x16\n",
    "Plane16 = naiveBayes(x_train_rgb_16,y_train,x_test_rgb_16,0)\n",
    "Automobile16 = naiveBayes(x_train_rgb_16,y_train,x_test_rgb_16,1)\n",
    "Frog16 = naiveBayes(x_train_rgb_16,y_train,x_test_rgb_16,2)"
   ]
  },
  {
   "cell_type": "code",
   "execution_count": 12,
   "metadata": {},
   "outputs": [
    {
     "name": "stdout",
     "output_type": "stream",
     "text": [
      "64.3\n"
     ]
    }
   ],
   "source": [
    "predicted = correctness(Plane16,Automobile16,Frog16,x_test_rgb_16)"
   ]
  },
  {
   "cell_type": "code",
   "execution_count": 13,
   "metadata": {},
   "outputs": [],
   "source": [
    "confusion_matrix_16 = compute_confusion_matrix(y_test,predicted)"
   ]
  },
  {
   "cell_type": "code",
   "execution_count": 14,
   "metadata": {},
   "outputs": [
    {
     "data": {
      "text/plain": [
       "array([[723., 131., 146.],\n",
       "       [255., 429., 316.],\n",
       "       [170.,  53., 777.]])"
      ]
     },
     "execution_count": 14,
     "metadata": {},
     "output_type": "execute_result"
    }
   ],
   "source": [
    "confusion_matrix_16"
   ]
  },
  {
   "cell_type": "code",
   "execution_count": 15,
   "metadata": {},
   "outputs": [],
   "source": [
    "###########8x8\n",
    "Plane8 = naiveBayes(x_train_rgb_8,y_train,x_test_rgb_8,0)\n",
    "Automobile8 = naiveBayes(x_train_rgb_8,y_train,x_test_rgb_8,1)\n",
    "Frog8 = naiveBayes(x_train_rgb_8,y_train,x_test_rgb_8,2)"
   ]
  },
  {
   "cell_type": "code",
   "execution_count": 16,
   "metadata": {},
   "outputs": [
    {
     "name": "stdout",
     "output_type": "stream",
     "text": [
      "63.733333333333334\n"
     ]
    }
   ],
   "source": [
    "predicted = correctness(Plane8,Automobile8,Frog8,x_test_rgb_8)"
   ]
  },
  {
   "cell_type": "code",
   "execution_count": 17,
   "metadata": {},
   "outputs": [],
   "source": [
    "confusion_matrix_8 = compute_confusion_matrix(y_test,predicted)"
   ]
  },
  {
   "cell_type": "code",
   "execution_count": 18,
   "metadata": {},
   "outputs": [
    {
     "data": {
      "text/plain": [
       "array([[713., 146., 141.],\n",
       "       [253., 421., 326.],\n",
       "       [165.,  57., 778.]])"
      ]
     },
     "execution_count": 18,
     "metadata": {},
     "output_type": "execute_result"
    }
   ],
   "source": [
    "confusion_matrix_8"
   ]
  },
  {
   "cell_type": "code",
   "execution_count": 19,
   "metadata": {},
   "outputs": [],
   "source": [
    "###########4x4\n",
    "Plane4 = naiveBayes(x_train_rgb_4,y_train,x_test_rgb_4,0)\n",
    "Automobile4 = naiveBayes(x_train_rgb_4,y_train,x_test_rgb_4,1)\n",
    "Frog4 = naiveBayes(x_train_rgb_4,y_train,x_test_rgb_4,2)"
   ]
  },
  {
   "cell_type": "code",
   "execution_count": 20,
   "metadata": {},
   "outputs": [
    {
     "name": "stdout",
     "output_type": "stream",
     "text": [
      "61.3\n"
     ]
    }
   ],
   "source": [
    "predicted = correctness(Plane4,Automobile4,Frog4,x_test_rgb_4)"
   ]
  },
  {
   "cell_type": "code",
   "execution_count": 21,
   "metadata": {},
   "outputs": [],
   "source": [
    "confusion_matrix_4 = compute_confusion_matrix(y_test,predicted)"
   ]
  },
  {
   "cell_type": "code",
   "execution_count": 22,
   "metadata": {},
   "outputs": [
    {
     "data": {
      "text/plain": [
       "array([[682., 181., 137.],\n",
       "       [256., 382., 362.],\n",
       "       [164.,  61., 775.]])"
      ]
     },
     "execution_count": 22,
     "metadata": {},
     "output_type": "execute_result"
    }
   ],
   "source": [
    "confusion_matrix_4"
   ]
  },
  {
   "cell_type": "code",
   "execution_count": 23,
   "metadata": {},
   "outputs": [
    {
     "data": {
      "text/plain": [
       "[array([[803., 100.,  97.],\n",
       "        [334., 379., 287.],\n",
       "        [334.,  45., 621.]]),\n",
       " array([[723., 131., 146.],\n",
       "        [255., 429., 316.],\n",
       "        [170.,  53., 777.]]),\n",
       " array([[713., 146., 141.],\n",
       "        [253., 421., 326.],\n",
       "        [165.,  57., 778.]]),\n",
       " array([[682., 181., 137.],\n",
       "        [256., 382., 362.],\n",
       "        [164.,  61., 775.]])]"
      ]
     },
     "execution_count": 23,
     "metadata": {},
     "output_type": "execute_result"
    }
   ],
   "source": [
    "#confusion_matrices_nb += [confusion_matrix]\n",
    "confusion_matrices_nb=[]\n",
    "confusion_matrices_nb += [confusion_matrix_32]\n",
    "confusion_matrices_nb += [confusion_matrix_16]\n",
    "confusion_matrices_nb += [confusion_matrix_8]\n",
    "confusion_matrices_nb += [confusion_matrix_4]\n",
    "confusion_matrices_nb\n"
   ]
  },
  {
   "cell_type": "markdown",
   "metadata": {},
   "source": [
    "<hr style=\"border:2px solid black\"> </hr>\n",
    "\n",
    "## Construct Gaussian Generative Model classifier for each of the 3 classes.\n",
    "#### Test each classifier on all images in X_Test. \n",
    "#### Construct Confusion Matrix."
   ]
  },
  {
   "cell_type": "code",
   "execution_count": 24,
   "metadata": {},
   "outputs": [],
   "source": [
    "def calcS(mat):\n",
    "    means = np.transpose([np.mean(mat, axis=0)])\n",
    "    middle = mat - np.transpose(means)\n",
    "    s = np.transpose(middle).dot(middle)\n",
    "    return  len(mat)* s"
   ]
  },
  {
   "cell_type": "code",
   "execution_count": 25,
   "metadata": {},
   "outputs": [],
   "source": [
    "def calcCovariance(mat):\n",
    "    mat0= [mat[i] for i in range(len(mat)) if y_train[i]==0]\n",
    "    mat1= [mat[i] for i in range(len(mat)) if y_train[i]==1]\n",
    "    mat2= [mat[i] for i in range(len(mat)) if y_train[i]==2]\n",
    "    return (calcS(mat0) +  calcS(mat1) +  calcS(mat2))/len(mat)"
   ]
  },
  {
   "cell_type": "code",
   "execution_count": 26,
   "metadata": {},
   "outputs": [],
   "source": [
    "def extractClasses(x_train,label):\n",
    "    res = [x_train[i] for i in range(len(x_train)) if y_train[i]==label]\n",
    "    return  res"
   ]
  },
  {
   "cell_type": "code",
   "execution_count": 27,
   "metadata": {},
   "outputs": [],
   "source": [
    "def calcMean(x_train,label):\n",
    "    x_train_label= [x_train[i] for i in range(len(x_train)) if y_train[i]==label]\n",
    "    x_train_label=np.asarray(x_train_label)\n",
    "    m = np.mean(x_train_label, axis=0)   \n",
    "    return  m"
   ]
  },
  {
   "cell_type": "code",
   "execution_count": 28,
   "metadata": {},
   "outputs": [],
   "source": [
    "def getProb(x_test,inverseCovariance,mean):\n",
    "    prob = []\n",
    "    for photo in x_test:\n",
    "        tmp = photo - mean\n",
    "        res = tmp.dot(inverseCovariance)\n",
    "        res = res.dot(np.transpose(tmp))\n",
    "        res=np.exp(-0.5*res)\n",
    "        prob.append(res)\n",
    "    return prob"
   ]
  },
  {
   "cell_type": "code",
   "execution_count": 29,
   "metadata": {},
   "outputs": [],
   "source": [
    "def likleyHood(x_train,x_test):\n",
    "    covarianceMatrix = calcCovariance(x_train)\n",
    "    inverseCovariance = np.linalg.pinv(covarianceMatrix)\n",
    "    meanPlane = calcMean(x_train,0)\n",
    "    meanAuto = calcMean(x_train,1)\n",
    "    meanFrog = calcMean(x_train,2)\n",
    "    probPlane = getProb(x_test,inverseCovariance,meanPlane)\n",
    "    probAuto = getProb(x_test,inverseCovariance,meanAuto)\n",
    "    probFrog = getProb(x_test,inverseCovariance,meanFrog)\n",
    "\n",
    "    return probPlane,probAuto,probFrog\n"
   ]
  },
  {
   "cell_type": "code",
   "execution_count": 30,
   "metadata": {},
   "outputs": [],
   "source": [
    "Plane32,Automobile32,Frog32 = likleyHood(x_train_rgb_32,x_test_rgb_32)\n",
    "\n",
    "    "
   ]
  },
  {
   "cell_type": "code",
   "execution_count": 31,
   "metadata": {},
   "outputs": [
    {
     "name": "stdout",
     "output_type": "stream",
     "text": [
      "74.4\n"
     ]
    }
   ],
   "source": [
    "predicted = correctness(Plane32,Automobile32,Frog32,x_test_rgb_32)"
   ]
  },
  {
   "cell_type": "code",
   "execution_count": 32,
   "metadata": {},
   "outputs": [],
   "source": [
    "confusion_matrix_32 = compute_confusion_matrix(y_test,predicted)"
   ]
  },
  {
   "cell_type": "code",
   "execution_count": 33,
   "metadata": {},
   "outputs": [],
   "source": [
    "Plane16,Automobile16,Frog16 = likleyHood(x_train_rgb_16,x_test_rgb_16)\n"
   ]
  },
  {
   "cell_type": "code",
   "execution_count": 34,
   "metadata": {},
   "outputs": [
    {
     "name": "stdout",
     "output_type": "stream",
     "text": [
      "78.3\n"
     ]
    }
   ],
   "source": [
    "predicted = correctness(Plane16,Automobile16,Frog16,x_test_rgb_16)"
   ]
  },
  {
   "cell_type": "code",
   "execution_count": 35,
   "metadata": {},
   "outputs": [],
   "source": [
    "confusion_matrix_16 = compute_confusion_matrix(y_test,predicted)"
   ]
  },
  {
   "cell_type": "code",
   "execution_count": 36,
   "metadata": {},
   "outputs": [],
   "source": [
    "Plane8,Automobile8,Frog8 = likleyHood(x_train_rgb_8,x_test_rgb_8)\n"
   ]
  },
  {
   "cell_type": "code",
   "execution_count": 37,
   "metadata": {},
   "outputs": [
    {
     "name": "stdout",
     "output_type": "stream",
     "text": [
      "77.8\n"
     ]
    }
   ],
   "source": [
    "predicted = correctness(Plane8,Automobile8,Frog8,x_test_rgb_8)"
   ]
  },
  {
   "cell_type": "code",
   "execution_count": 38,
   "metadata": {},
   "outputs": [],
   "source": [
    "confusion_matrix_8 = compute_confusion_matrix(y_test,predicted)"
   ]
  },
  {
   "cell_type": "code",
   "execution_count": 39,
   "metadata": {},
   "outputs": [],
   "source": [
    "Plane4,Automobile4,Frog4 = likleyHood(x_train_rgb_4,x_test_rgb_4)\n"
   ]
  },
  {
   "cell_type": "code",
   "execution_count": 40,
   "metadata": {},
   "outputs": [
    {
     "name": "stdout",
     "output_type": "stream",
     "text": [
      "76.23333333333333\n"
     ]
    }
   ],
   "source": [
    "predicted = correctness(Plane4,Automobile4,Frog4,x_test_rgb_4)"
   ]
  },
  {
   "cell_type": "code",
   "execution_count": 41,
   "metadata": {},
   "outputs": [],
   "source": [
    "confusion_matrix_4 = compute_confusion_matrix(y_test,predicted)"
   ]
  },
  {
   "cell_type": "code",
   "execution_count": 42,
   "metadata": {},
   "outputs": [
    {
     "data": {
      "text/plain": [
       "[array([[769., 127., 104.],\n",
       "        [192., 672., 136.],\n",
       "        [ 83., 126., 791.]]),\n",
       " array([[797., 116.,  87.],\n",
       "        [161., 721., 118.],\n",
       "        [ 61., 108., 831.]]),\n",
       " array([[788., 126.,  86.],\n",
       "        [174., 706., 120.],\n",
       "        [ 58., 102., 840.]]),\n",
       " array([[778., 153.,  69.],\n",
       "        [199., 684., 117.],\n",
       "        [ 53., 122., 825.]])]"
      ]
     },
     "execution_count": 42,
     "metadata": {},
     "output_type": "execute_result"
    }
   ],
   "source": [
    "#confusion_matrices_gm += [confusion_matrix]\n",
    "confusion_matrices_gm=[]\n",
    "confusion_matrices_gm += [confusion_matrix_32]\n",
    "confusion_matrices_gm += [confusion_matrix_16]\n",
    "confusion_matrices_gm += [confusion_matrix_8]\n",
    "confusion_matrices_gm += [confusion_matrix_4]\n",
    "confusion_matrices_gm"
   ]
  },
  {
   "cell_type": "markdown",
   "metadata": {},
   "source": [
    "<hr style=\"border:2px solid black\"> </hr>\n",
    "\n",
    "## Repeat previous two confusion matrices for image sizes 16,8,4.\n",
    "### Return confusion_matrices (array containing 8 matrices, 4 for naive bayes, 4 for gaussian generative model). \n",
    "#### confusion_matrices_nb = [confusion_matrix_nb_32, confusion_matrix_nb_16, confusion_matrix_nb_8, confusion_matrix_nb_4].\n",
    "#### confusion_matrices_gm = [confusion_matrix_gm_32, confusion_matrix_gm_16, confusion_matrix_gm_8, confusion_matrix_gm_4]."
   ]
  },
  {
   "cell_type": "code",
   "execution_count": 43,
   "metadata": {},
   "outputs": [],
   "source": [
    "confusion_matrices = confusion_matrices_nb + confusion_matrices_gm"
   ]
  },
  {
   "cell_type": "markdown",
   "metadata": {},
   "source": [
    "<hr style=\"border:2px solid black\"> </hr>\n",
    "\n",
    "## The below 2 cells will only work if you return confusion_matrices (previous cell) with all 8 matrices in it.\n",
    "## Please don't edit the below cells.\n",
    "## Please run them and save the notebook before uploading so the script can check the saved image.\n",
    "## Please don't change the order of the matrices.\n"
   ]
  },
  {
   "cell_type": "code",
   "execution_count": 44,
   "metadata": {},
   "outputs": [
    {
     "data": {
      "image/png": "[encoded data removed]",
      "text/plain": [
       "<Figure size 1440x720 with 8 Axes>"
      ]
     },
     "metadata": {},
     "output_type": "display_data"
    }
   ],
   "source": [
    "dims = [32,16,8,4,32,16,8,4]\n",
    "fig, axs = plt.subplots(2, 4,figsize=(20,10))\n",
    "fig.suptitle(\"Confusion Matrix for each Scale\",fontsize=30)\n",
    "for pi in range(0,axs.shape[0]):\n",
    "    for pj in range(0,axs.shape[1]):\n",
    "        index = np.round(pi*4+pj)\n",
    "        cm = confusion_matrices[index]\n",
    "        axs[pi,pj].matshow(cm,cmap=\"Blues\")\n",
    "        axs[pi,pj].set_title(\"For d=\"+str(dims[index])+\" ,acc=\"+str(np.round(np.diag(cm).sum()/3000,3)),fontsize=20)\n",
    "        for i in range(0,cm.shape[0]):\n",
    "            for j in range(0,cm.shape[1]):\n",
    "                axs[pi,pj].set_xticks([])\n",
    "                axs[pi,pj].set_yticks([])\n",
    "                axs[pi,pj].annotate(cm[i,j],(j,i))"
   ]
  },
  {
   "cell_type": "code",
   "execution_count": 45,
   "metadata": {},
   "outputs": [
    {
     "data": {
      "text/plain": [
       "Text(0.5, 1.0, 'NB VS GM')"
      ]
     },
     "execution_count": 45,
     "metadata": {},
     "output_type": "execute_result"
    },
    {
     "data": {
      "image/png": "[encoded data removed]",
      "text/plain": [
       "<Figure size 1440x720 with 1 Axes>"
      ]
     },
     "metadata": {
      "needs_background": "light"
     },
     "output_type": "display_data"
    }
   ],
   "source": [
    "plt.figure(figsize=(20,10))\n",
    "plt.plot(dims[:4],[np.diag(cm).sum()/3000 for cm in confusion_matrices_nb],color='orange')\n",
    "plt.plot(dims[:4],[np.diag(cm).sum()/3000 for cm in confusion_matrices_gm],color='blue')\n",
    "plt.xlabel('Scale')\n",
    "plt.ylabel('Accuracy')\n",
    "plt.title('NB VS GM')"
   ]
  },
  {
   "cell_type": "markdown",
   "metadata": {},
   "source": [
    "<hr style=\"border:2px solid black\"> </hr>\n",
    "\n",
    "## Comment on the results ##\n",
    "\n",
    "### \n",
    "The Poor performance of the NB relative to the GM is because NB assumes independence among feutures which is not the case pixels depends on each other in photos while GM solves this problem and calculate covariance between pixels. So Overall, GM performed better than NB in all four photos sizes. Photos the have the size of 16x16 performed the best in both models.\n",
    "\n",
    "###"
   ]
  }
 ],
 "metadata": {
  "interpreter": {
   "hash": "31f2aee4e71d21fbe5cf8b01ff0e069b9275f58929596ceb00d14d90e3e16cd6"
  },
  "kernelspec": {
   "display_name": "Python 3",
   "language": "python",
   "name": "python3"
  },
  "language_info": {
   "codemirror_mode": {
    "name": "ipython",
    "version": 3
   },
   "file_extension": ".py",
   "mimetype": "text/x-python",
   "name": "python",
   "nbconvert_exporter": "python",
   "pygments_lexer": "ipython3",
   "version": "3.8.8"
  }
 },
 "nbformat": 4,
 "nbformat_minor": 4
}
